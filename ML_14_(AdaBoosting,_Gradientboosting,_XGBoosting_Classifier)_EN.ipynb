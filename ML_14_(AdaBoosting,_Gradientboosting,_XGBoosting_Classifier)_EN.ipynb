{
  "cells": [
    {
      "cell_type": "markdown",
      "id": "novel-swaziland",
      "metadata": {
        "id": "novel-swaziland"
      },
      "source": [
        "## Adaboosting, Gradient Boosting, XGBoost Classifier"
      ]
    },
    {
      "cell_type": "markdown",
      "id": "sensitive-eagle",
      "metadata": {
        "id": "sensitive-eagle"
      },
      "source": [
        "we will be working with a fake advertising data set, indicating whether or not a particular internet user clicked on an Advertisement on a company website. We will try to create a model that will predict whether or not they will click on an ad based off the features of that user.\n",
        "\n",
        "This data set contains the following features:\n",
        "\n",
        "* 'Daily Time Spent on Site': consumer time on site in minutes\n",
        "* 'Age': cutomer age in years\n",
        "* 'Area Income': Avg. Income of geographical area of consumer\n",
        "* 'Daily Internet Usage': Avg. minutes a day consumer is on the internet\n",
        "* 'Ad Topic Line': Headline of the advertisement\n",
        "* 'City': City of consumer\n",
        "* 'Male': Whether or not consumer was male\n",
        "* 'Country': Country of consumer\n",
        "* 'Timestamp': Time at which consumer clicked on Ad or closed window\n",
        "* 'Clicked on Ad': 0 or 1 indicated clicking on Ad"
      ]
    },
    {
      "cell_type": "markdown",
      "id": "backed-envelope",
      "metadata": {
        "id": "backed-envelope"
      },
      "source": [
        "## Import Libraries"
      ]
    },
    {
      "cell_type": "code",
      "execution_count": null,
      "id": "1b72e214",
      "metadata": {
        "colab": {
          "base_uri": "https://localhost:8080/"
        },
        "id": "1b72e214",
        "outputId": "2065b2f7-f54c-47dc-e9be-f0b03ba2f41d"
      },
      "outputs": [],
      "source": [
        "import xgboost\n",
        "import sklearn\n",
        "\n",
        "print(\"scikit-learn version:\", sklearn.__version__)\n",
        "print(\"xgboost version:\", xgboost.__version__)\n",
        "\n",
        "# scikit-learn version: 1.4.0 (last version 1.6.0 but not compatible, 12.13.2025)\n",
        "# XGBoost 2.1.3 # (last version 12.13.2025)\n",
        "# These versions must be used together for compatibility, otherwise you will get an error."
      ]
    },
    {
      "cell_type": "code",
      "execution_count": null,
      "id": "4361e18e",
      "metadata": {},
      "outputs": [],
      "source": [
        "sklearn.__version__"
      ]
    },
    {
      "cell_type": "code",
      "execution_count": null,
      "id": "dutch-holmes",
      "metadata": {
        "id": "dutch-holmes"
      },
      "outputs": [],
      "source": [
        "import pandas as pd\n",
        "import numpy as np\n",
        "import matplotlib.pyplot as plt\n",
        "import seaborn as sns\n",
        "\n",
        "plt.rcParams[\"figure.figsize\"] = (7,4)\n",
        "import warnings\n",
        "warnings.filterwarnings(\"ignore\")\n",
        "warnings.warn(\"this will not show\")"
      ]
    },
    {
      "cell_type": "code",
      "execution_count": null,
      "id": "understanding-stable",
      "metadata": {
        "colab": {
          "base_uri": "https://localhost:8080/",
          "height": 206
        },
        "id": "understanding-stable",
        "outputId": "a0b79485-e1e9-4edb-fad8-1e5e0b48b23d"
      },
      "outputs": [],
      "source": [
        "df = pd.read_csv('advertising2.csv')\n",
        "df.head()"
      ]
    },
    {
      "cell_type": "markdown",
      "id": "vietnamese-february",
      "metadata": {
        "id": "vietnamese-february"
      },
      "source": [
        "## Exploratory Data Analysis and Visualization"
      ]
    },
    {
      "cell_type": "code",
      "execution_count": null,
      "id": "ordinary-rebel",
      "metadata": {
        "colab": {
          "base_uri": "https://localhost:8080/"
        },
        "id": "ordinary-rebel",
        "outputId": "76a9e743-c1f3-4be4-d459-bee63a5dd479"
      },
      "outputs": [],
      "source": [
        "df.info()"
      ]
    },
    {
      "cell_type": "code",
      "execution_count": null,
      "id": "three-snowboard",
      "metadata": {
        "colab": {
          "base_uri": "https://localhost:8080/",
          "height": 300
        },
        "id": "three-snowboard",
        "outputId": "2095c663-09fe-4192-b391-7939e012a07a"
      },
      "outputs": [],
      "source": [
        "df.describe()"
      ]
    },
    {
      "cell_type": "code",
      "execution_count": null,
      "id": "appropriate-modeling",
      "metadata": {
        "colab": {
          "base_uri": "https://localhost:8080/",
          "height": 1000
        },
        "id": "appropriate-modeling",
        "outputId": "5d2276db-b5a9-4fce-c2f4-f9f57343fb33"
      },
      "outputs": [],
      "source": [
        "sns.pairplot(df, hue='Clicked on Ad')"
      ]
    },
    {
      "cell_type": "markdown",
      "id": "loving-clone",
      "metadata": {
        "id": "loving-clone"
      },
      "source": [
        "## Train | Test Split"
      ]
    },
    {
      "cell_type": "code",
      "execution_count": null,
      "id": "30de739b",
      "metadata": {
        "colab": {
          "base_uri": "https://localhost:8080/"
        },
        "id": "30de739b",
        "lang": "en",
        "outputId": "97f942c6-7f70-416e-9c93-3d87223afc57"
      },
      "outputs": [],
      "source": [
        "for feature in df.select_dtypes(\"object\").columns:\n",
        "    print(feature, df[feature].nunique())\n",
        "\n",
        "# We detect unique observation numbers of categorical features.\n",
        "# We will drop features that contain many unique categorical observations.\n",
        "# Tree-based models can assign too much weight to features that contain too many unique categorical observations.\n",
        "# Also, unique categorical observations with a small number of models may not learn anything."
      ]
    },
    {
      "cell_type": "code",
      "execution_count": null,
      "id": "narrow-month",
      "metadata": {
        "id": "narrow-month"
      },
      "outputs": [],
      "source": [
        "from sklearn.model_selection import train_test_split"
      ]
    },
    {
      "cell_type": "code",
      "execution_count": null,
      "id": "176902c8",
      "metadata": {
        "colab": {
          "base_uri": "https://localhost:8080/"
        },
        "id": "176902c8",
        "lang": "en",
        "outputId": "1f589cf7-d71f-4e9d-859d-f89bca18494d"
      },
      "outputs": [],
      "source": [
        "cat = df.select_dtypes(\"object\").columns\n",
        "cat\n",
        "# we first identify categorical features. We have already decided to drop them above."
      ]
    },
    {
      "cell_type": "code",
      "execution_count": null,
      "id": "addfc01a",
      "metadata": {
        "colab": {
          "base_uri": "https://localhost:8080/"
        },
        "id": "addfc01a",
        "outputId": "0827a171-a00f-41d3-9ba4-881682b045c9"
      },
      "outputs": [],
      "source": [
        "list(cat)"
      ]
    },
    {
      "cell_type": "code",
      "execution_count": null,
      "id": "b699614a",
      "metadata": {
        "colab": {
          "base_uri": "https://localhost:8080/"
        },
        "id": "b699614a",
        "lang": "en",
        "outputId": "271e3004-2d4f-4512-f613-9d7f3e05732d"
      },
      "outputs": [],
      "source": [
        "cat2 = list(cat) + ['Clicked on Ad']\n",
        "cat2\n",
        "\n",
        "# We will add our target to the fetures we will drop and then drop it from X (arguments)."
      ]
    },
    {
      "cell_type": "code",
      "execution_count": null,
      "id": "occupational-missile",
      "metadata": {
        "id": "occupational-missile"
      },
      "outputs": [],
      "source": [
        "X = df.drop(columns=cat2)\n",
        "y = df['Clicked on Ad']"
      ]
    },
    {
      "cell_type": "code",
      "execution_count": null,
      "id": "spectacular-excellence",
      "metadata": {
        "id": "spectacular-excellence"
      },
      "outputs": [],
      "source": [
        "X_train, X_test, y_train, y_test = train_test_split(X, y, test_size=0.1, random_state=42)"
      ]
    },
    {
      "cell_type": "code",
      "execution_count": null,
      "id": "2f31f6e9",
      "metadata": {
        "colab": {
          "base_uri": "https://localhost:8080/",
          "height": 81
        },
        "id": "2f31f6e9",
        "outputId": "5b7e4917-3351-4e9d-dbb6-d24d833ab048"
      },
      "outputs": [],
      "source": [
        "X_train.head(1)"
      ]
    },
    {
      "cell_type": "markdown",
      "id": "waiting-marijuana",
      "metadata": {
        "id": "waiting-marijuana"
      },
      "source": [
        "## Modelling and Model Performance"
      ]
    },
    {
      "cell_type": "code",
      "execution_count": null,
      "id": "250e25d2",
      "metadata": {
        "id": "250e25d2",
        "lang": "en"
      },
      "outputs": [],
      "source": [
        "from sklearn.ensemble import AdaBoostClassifier\n",
        "from sklearn.tree import DecisionTreeClassifier\n",
        "# Since the default base_estimator DecisionTreeClassifier is in the background of Adoboost,\n",
        "# we imported it to show how to play with the hyperparameters in it.\n",
        "from sklearn.metrics import confusion_matrix, classification_report,\\\n",
        "                            accuracy_score, recall_score, precision_score,\\\n",
        "                            f1_score, roc_auc_score\n",
        "from sklearn.model_selection import cross_validate"
      ]
    },
    {
      "cell_type": "code",
      "execution_count": null,
      "id": "e0ee012d",
      "metadata": {
        "id": "e0ee012d"
      },
      "outputs": [],
      "source": [
        "def eval_metric(model, X_train, y_train, X_test, y_test):\n",
        "    y_train_pred = model.predict(X_train)\n",
        "    y_pred = model.predict(X_test)\n",
        "\n",
        "    print(\"Test_Set\")\n",
        "    print(confusion_matrix(y_test, y_pred))\n",
        "    print(classification_report(y_test, y_pred))\n",
        "    print()\n",
        "    print(\"Train_Set\")\n",
        "    print(confusion_matrix(y_train, y_train_pred))\n",
        "    print(classification_report(y_train, y_train_pred))"
      ]
    },
    {
      "cell_type": "code",
      "execution_count": null,
      "id": "velvet-pastor",
      "metadata": {
        "id": "velvet-pastor"
      },
      "outputs": [],
      "source": [
        "# base_estimator=DecisionTreeClassifier(max_depth=1)\n",
        "ada_model = AdaBoostClassifier(n_estimators=50, random_state=42)"
      ]
    },
    {
      "cell_type": "raw",
      "id": "4b3e503d",
      "metadata": {
        "id": "4b3e503d",
        "lang": "en"
      },
      "source": [
        "Ada_model = AdaBoostClassifier(base_estimator=DecisionTreeClassifier(max_depth=1), n_estimators=50, random_state=42)\n",
        "\n",
        "# If we don't get good results with adaboost's default parameters, we can play with base_estimator's hyper_parameters like here. Since the working logic of boosting is based on weak trees, try to score max_dept by 2 at most. Deeper trees cease to be weak trees."
      ]
    },
    {
      "cell_type": "code",
      "execution_count": null,
      "id": "intermediate-vampire",
      "metadata": {
        "colab": {
          "base_uri": "https://localhost:8080/",
          "height": 80
        },
        "id": "intermediate-vampire",
        "outputId": "aca25abd-159d-4d0c-fca0-03f7e739777c"
      },
      "outputs": [],
      "source": [
        "ada_model.fit(X_train,y_train)"
      ]
    },
    {
      "cell_type": "code",
      "execution_count": null,
      "id": "d89deead",
      "metadata": {
        "colab": {
          "base_uri": "https://localhost:8080/"
        },
        "id": "d89deead",
        "outputId": "685af9c1-8144-4055-9938-c50ee67844b1"
      },
      "outputs": [],
      "source": [
        "eval_metric(ada_model, X_train, y_train, X_test, y_test)\n",
        "\n",
        "# no overfiting. we will confirm with CV."
      ]
    },
    {
      "cell_type": "code",
      "execution_count": null,
      "id": "46c6ca72",
      "metadata": {
        "colab": {
          "base_uri": "https://localhost:8080/",
          "height": 335
        },
        "id": "46c6ca72",
        "outputId": "9e864a4b-8256-4dbe-9b4c-2bca36cd9d34"
      },
      "outputs": [],
      "source": [
        "model = AdaBoostClassifier(n_estimators=50, random_state=42)\n",
        "\n",
        "scores = cross_validate(model,\n",
        "                        X_train,\n",
        "                        y_train,\n",
        "                        scoring=[\"accuracy\",\n",
        "                                 \"precision\",\n",
        "                                 \"recall\",\n",
        "                                 \"f1\"],\n",
        "                       cv = 10,\n",
        "                       return_train_score=True)\n",
        "df_scores = pd.DataFrame(scores, index = range(1, 11))\n",
        "df_scores.mean()[2:]\n",
        "\n",
        "# no overfiting."
      ]
    },
    {
      "cell_type": "markdown",
      "id": "e05ee74d",
      "metadata": {
        "id": "e05ee74d"
      },
      "source": [
        "## Tree Visualization"
      ]
    },
    {
      "cell_type": "code",
      "execution_count": null,
      "id": "warming-basement",
      "metadata": {
        "id": "warming-basement"
      },
      "outputs": [],
      "source": [
        "from sklearn.tree import plot_tree"
      ]
    },
    {
      "cell_type": "code",
      "execution_count": null,
      "id": "c24f0b5f",
      "metadata": {
        "colab": {
          "base_uri": "https://localhost:8080/",
          "height": 80
        },
        "id": "c24f0b5f",
        "lang": "en",
        "outputId": "0abb5c79-a09c-4e2a-c1a3-1c0b579b8700"
      },
      "outputs": [],
      "source": [
        "model = AdaBoostClassifier(n_estimators=3, random_state=42)\n",
        "model.fit(X_train,y_train)\n",
        "\n",
        "# we will only visualize 3 trees and touch on the working logic."
      ]
    },
    {
      "cell_type": "code",
      "execution_count": null,
      "id": "published-opportunity",
      "metadata": {
        "id": "published-opportunity"
      },
      "outputs": [],
      "source": [
        "# targets = df[\"Clicked on Ad\"].astype(\"str\")"
      ]
    },
    {
      "cell_type": "code",
      "execution_count": null,
      "id": "90b73964",
      "metadata": {
        "colab": {
          "base_uri": "https://localhost:8080/",
          "height": 499
        },
        "id": "90b73964",
        "lang": "en",
        "outputId": "612bd656-14f3-4b5a-e400-2c3a0087e4a4"
      },
      "outputs": [],
      "source": [
        "#features = list(X.columns)\n",
        "targets = df[\"Clicked on Ad\"].astype(\"str\")\n",
        "plt.figure(figsize=(15,6),dpi=100)\n",
        "for i in range(3):\n",
        "  plt.subplot(1,3,i+1)\n",
        "  plot_tree(model.estimators_[i],\n",
        "            filled=True,\n",
        "            feature_names=X.columns,\n",
        "            class_names=targets.unique(),\n",
        "            fontsize=10);\n",
        "\n",
        "# We need to convert the targets to strings. Otherwise you will get an error.\n",
        "\n",
        "# adaboostclassifier tree has as many observations as the number of observations in the train set,\n",
        "# but these observations change in each tree.\n",
        "# adaboostclassifier reports unpredictable observations to the next tree and requests\n",
        "# more weight to be given to these observations.\n",
        "# This weighting is called increasing the number of unpredictable observations in the next tree.\n",
        "# Some of the predicted observations are not transferred to the next tree.\n",
        "# The weighting of the observations in the next trees is regulated by the learning rate.\n",
        "\n",
        "# now let's estimate the following observation in 3 separate trees to understand the working logic.\n",
        "\n",
        "# Daily Time Spent on Site 68.95\n",
        "# Age 35.00\n",
        "# Area Income 61833.90\n",
        "# Daily Internet Usage 156.09\n",
        "# Male 0.00\n",
        "\n",
        "#1 predicted tree 1. The weight coefficient of the tree is 1.117\n",
        "#2 tree guessed 0. Weight coefficient of wood 0.841\n",
        "#3 tree guessed 0. Weight coefficient of wood 0.434\n",
        "\n",
        "\n",
        "# of trees that predict class 0 (2nd and 3rd trees)\n",
        "# weight totals = 0.8418 + 0.4349 = 1.2767\n",
        "\n",
        "# Weight totals of trees (1st tree) predicting class 1 = 1.1174\n",
        "\n",
        "# Since the total weights of trees predicting class 0 are greater than the total weights of trees\n",
        "# predicting class 1, our model estimates the observation we gave to the model above as class 0."
      ]
    },
    {
      "cell_type": "markdown",
      "id": "running-james",
      "metadata": {
        "id": "running-james"
      },
      "source": [
        "## Gridsearch"
      ]
    },
    {
      "cell_type": "code",
      "execution_count": null,
      "id": "modern-investigator",
      "metadata": {
        "id": "modern-investigator"
      },
      "outputs": [],
      "source": [
        "from sklearn.model_selection import GridSearchCV"
      ]
    },
    {
      "cell_type": "code",
      "execution_count": null,
      "id": "precious-paint",
      "metadata": {
        "id": "precious-paint"
      },
      "outputs": [],
      "source": [
        "model = AdaBoostClassifier(random_state=42)"
      ]
    },
    {
      "cell_type": "code",
      "execution_count": null,
      "id": "e0fe280c",
      "metadata": {
        "id": "e0fe280c",
        "lang": "en"
      },
      "outputs": [],
      "source": [
        "param_grid = {\"n_estimators\": [20, 30, 100, 200],\n",
        "              \"learning_rate\": [0.01, 0.1, 0.2, 0.5, 1.0]}\n",
        "\n",
        "# There is always a trade off between the number of trees and the learning rate."
      ]
    },
    {
      "cell_type": "code",
      "execution_count": null,
      "id": "objective-baker",
      "metadata": {
        "id": "objective-baker"
      },
      "outputs": [],
      "source": [
        "ada_grid_model = GridSearchCV(model,\n",
        "                              param_grid,\n",
        "                              cv=5,\n",
        "                              scoring='f1',\n",
        "                              return_train_score=True)"
      ]
    },
    {
      "cell_type": "code",
      "execution_count": null,
      "id": "discrete-baghdad",
      "metadata": {
        "colab": {
          "base_uri": "https://localhost:8080/",
          "height": 165
        },
        "id": "discrete-baghdad",
        "outputId": "630bf76f-3784-498e-f75b-0324b5363384"
      },
      "outputs": [],
      "source": [
        "ada_grid_model.fit(X_train, y_train)"
      ]
    },
    {
      "cell_type": "code",
      "execution_count": null,
      "id": "f6466cd9",
      "metadata": {
        "colab": {
          "base_uri": "https://localhost:8080/",
          "height": 80
        },
        "id": "f6466cd9",
        "outputId": "9bfc155d-e439-4504-aa60-61a334413781"
      },
      "outputs": [],
      "source": [
        "ada_grid_model.best_estimator_"
      ]
    },
    {
      "cell_type": "code",
      "execution_count": null,
      "id": "6f9e6ae3",
      "metadata": {
        "colab": {
          "base_uri": "https://localhost:8080/",
          "height": 147
        },
        "id": "6f9e6ae3",
        "outputId": "c8bf03a4-5f1e-4be8-9d63-e15cfeaa037f"
      },
      "outputs": [],
      "source": [
        "pd.DataFrame(ada_grid_model.cv_results_).loc[ada_grid_model.best_index_, [\"mean_test_score\", \"mean_train_score\"]]"
      ]
    },
    {
      "cell_type": "code",
      "execution_count": null,
      "id": "expanded-triumph",
      "metadata": {
        "colab": {
          "base_uri": "https://localhost:8080/"
        },
        "id": "expanded-triumph",
        "outputId": "bf7987b2-f4c8-460f-f5d2-e46d9d73e9a8"
      },
      "outputs": [],
      "source": [
        "y_pred = ada_grid_model.predict(X_test)\n",
        "y_pred_proba = ada_grid_model.predict_proba(X_test)\n",
        "\n",
        "ada_f1 = f1_score(y_test, y_pred)\n",
        "ada_recall = recall_score(y_test, y_pred)\n",
        "ada_auc = roc_auc_score(y_test, y_pred_proba[:,1])\n",
        "eval_metric(ada_grid_model, X_train, y_train, X_test, y_test)"
      ]
    },
    {
      "cell_type": "markdown",
      "id": "d0e33ad2",
      "metadata": {
        "id": "d0e33ad2"
      },
      "source": [
        "## Feature_importances"
      ]
    },
    {
      "cell_type": "code",
      "execution_count": null,
      "id": "f6a81295",
      "metadata": {
        "colab": {
          "base_uri": "https://localhost:8080/",
          "height": 206
        },
        "id": "f6a81295",
        "outputId": "8ebc424c-daad-4588-fd1e-9ec910bb8517"
      },
      "outputs": [],
      "source": [
        "model = AdaBoostClassifier(n_estimators=100,\n",
        "                           learning_rate=0.1,\n",
        "                           random_state=42)\n",
        "model.fit(X_train, y_train)\n",
        "model.feature_importances_\n",
        "\n",
        "feats = pd.DataFrame(index=X.columns,\n",
        "                     data=model.feature_importances_,\n",
        "                     columns=['ada_importance'])\n",
        "ada_imp_feats = feats.sort_values(\"ada_importance\", ascending = False)\n",
        "ada_imp_feats"
      ]
    },
    {
      "cell_type": "code",
      "execution_count": null,
      "id": "e8c0e1dc",
      "metadata": {
        "colab": {
          "base_uri": "https://localhost:8080/",
          "height": 545
        },
        "id": "e8c0e1dc",
        "outputId": "c7072924-aa78-4d0a-eb9b-3bc68970a6a2"
      },
      "outputs": [],
      "source": [
        "#plt.figure(figsize=(12,6))\n",
        "ax = sns.barplot(data=ada_imp_feats,\n",
        "                 x=ada_imp_feats.index,\n",
        "                 y='ada_importance')\n",
        "ax.bar_label(ax.containers[0],fmt=\"%.3f\");\n",
        "plt.xticks(rotation=90);"
      ]
    },
    {
      "cell_type": "markdown",
      "id": "electronic-accent",
      "metadata": {
        "id": "electronic-accent"
      },
      "source": [
        "## Evaluating ROC Curves and AUC"
      ]
    },
    {
      "cell_type": "code",
      "execution_count": null,
      "id": "future-pittsburgh",
      "metadata": {
        "id": "future-pittsburgh"
      },
      "outputs": [],
      "source": [
        "from sklearn.metrics import roc_auc_score,\\\n",
        "                            RocCurveDisplay, PrecisionRecallDisplay"
      ]
    },
    {
      "cell_type": "code",
      "execution_count": null,
      "id": "optical-north",
      "metadata": {
        "colab": {
          "base_uri": "https://localhost:8080/",
          "height": 390
        },
        "id": "optical-north",
        "outputId": "3c86e7ca-9b7c-4bfe-a7bb-01336889eaf2"
      },
      "outputs": [],
      "source": [
        "RocCurveDisplay.from_estimator(ada_grid_model, X_test, y_test);"
      ]
    },
    {
      "cell_type": "markdown",
      "id": "wired-chest",
      "metadata": {
        "id": "wired-chest"
      },
      "source": [
        "## Gradient Boosting Modelling and Model Performance"
      ]
    },
    {
      "cell_type": "code",
      "execution_count": null,
      "id": "9b25737d",
      "metadata": {
        "id": "9b25737d",
        "lang": "en"
      },
      "outputs": [],
      "source": [
        "# It is a tree-based model that uses gradient descent algorithms to optimize gradient boosting algorithm errors.\n",
        "# Each observation is initialized from a fixed probability. If there are more than 1 classes in the data,\n",
        "# this probability is greater than 0.5.\n",
        "# If there are more than 0 classes, this probability is less than 0.5. By subtracting this probability value\n",
        "# from the 1 and 0 probability values, we find the residual values. The model tries to perfect its estimates\n",
        "# by bringing these residual values closer to 0."
      ]
    },
    {
      "cell_type": "code",
      "execution_count": null,
      "id": "adc9d69b",
      "metadata": {
        "id": "adc9d69b"
      },
      "outputs": [],
      "source": [
        "from sklearn.ensemble import GradientBoostingClassifier"
      ]
    },
    {
      "cell_type": "code",
      "execution_count": null,
      "id": "5c6f7a6a",
      "metadata": {
        "id": "5c6f7a6a",
        "lang": "en"
      },
      "outputs": [],
      "source": [
        "grad_model = GradientBoostingClassifier(random_state=42)\n",
        "\n",
        "# unlike random forest:\n",
        "# 1. It is set to max_dept=3 by default in order to be a weak learner.\n",
        "\n",
        "# 2. How much each tree will contribute to the prediction is arranged with the learning rate hyper parameter.\n",
        "# default is 0.1.\n",
        "\n",
        "# 3. Since gradient descent-based model is used in the background, there is a loss hyper parameter in classification.\n",
        "# And by default it is log_loss. It tries to minimize residuals with the gradient boosting log_loss function.\n",
        "\n",
        "# 4. Friedman_mse, which is calculated in a similar way to mse, is used as the branching criterion (criterion) of leaves.\n",
        "# It works like a regression model, as the model tries to minimize residuals in the background.\n",
        "\n",
        "# 5. With the subsample, it is determined how much observation will be used in each tree. If we make sub_sample=0.8,\n",
        "# it uses 0.8 observations randomly selected from the train data in each tree. This process is repeated for each tree.\n",
        "# helps to eliminate overfitting if the subsample is dropped.\n",
        "\n",
        "# 6. Most other hyper_parameters are the same or similar to random forest.\n",
        "\n",
        "# The trade off between the number of trees or the learning rate should be well adjusted. Otherwise it goes to overfiting."
      ]
    },
    {
      "cell_type": "code",
      "execution_count": null,
      "id": "active-spell",
      "metadata": {
        "colab": {
          "base_uri": "https://localhost:8080/",
          "height": 80
        },
        "id": "active-spell",
        "outputId": "354393e1-ec3d-40b6-e7e6-e20cbdb58e50"
      },
      "outputs": [],
      "source": [
        "grad_model.fit(X_train, y_train)"
      ]
    },
    {
      "cell_type": "code",
      "execution_count": null,
      "id": "eca71613",
      "metadata": {
        "colab": {
          "base_uri": "https://localhost:8080/"
        },
        "id": "eca71613",
        "outputId": "fe0c1e7d-151d-4d49-8011-2fa69cc129f0"
      },
      "outputs": [],
      "source": [
        "eval_metric(grad_model, X_train, y_train, X_test, y_test)"
      ]
    },
    {
      "cell_type": "code",
      "execution_count": null,
      "id": "700241f1",
      "metadata": {
        "colab": {
          "base_uri": "https://localhost:8080/",
          "height": 398
        },
        "id": "700241f1",
        "outputId": "2a90cc0d-a566-4f4a-95d8-324251e5f7ea"
      },
      "outputs": [],
      "source": [
        "model = GradientBoostingClassifier(random_state=42)\n",
        "\n",
        "scores = cross_validate(model,\n",
        "                        X_train,\n",
        "                        y_train,\n",
        "                        scoring=['accuracy',\n",
        "                                 'precision',\n",
        "                                 'recall',\n",
        "                                 'f1',\n",
        "                                 'roc_auc'],\n",
        "                        cv = 10,\n",
        "                        return_train_score=True)\n",
        "df_scores = pd.DataFrame(scores, index = range(1, 11))\n",
        "df_scores.mean()[2:]"
      ]
    },
    {
      "cell_type": "markdown",
      "id": "guided-string",
      "metadata": {
        "id": "guided-string"
      },
      "source": [
        "## Gridsearch"
      ]
    },
    {
      "cell_type": "code",
      "execution_count": null,
      "id": "starting-reform",
      "metadata": {
        "id": "starting-reform"
      },
      "outputs": [],
      "source": [
        "param_grid = {\"n_estimators\":[100, 200, 300],\n",
        "              \"subsample\":[0.5, 1],\n",
        "              \"max_features\" : [None, 2, 3, 4],\n",
        "              \"learning_rate\": [0.001, 0.01, 0.1],\n",
        "              'max_depth':[3,4,5,6]} #0.8"
      ]
    },
    {
      "cell_type": "code",
      "execution_count": null,
      "id": "quality-testimony",
      "metadata": {
        "id": "quality-testimony"
      },
      "outputs": [],
      "source": [
        "gb_model = GradientBoostingClassifier(random_state = 42)"
      ]
    },
    {
      "cell_type": "code",
      "execution_count": null,
      "id": "eligible-excuse",
      "metadata": {
        "colab": {
          "base_uri": "https://localhost:8080/"
        },
        "id": "eligible-excuse",
        "outputId": "85175d7c-67d2-4584-b83d-c4115ffd0df5"
      },
      "outputs": [],
      "source": [
        "grid = GridSearchCV(gb_model,\n",
        "                    param_grid,\n",
        "                    scoring = \"f1\",\n",
        "                    verbose=2,\n",
        "                    n_jobs=-1,\n",
        "                    return_train_score=True)\n",
        "\n",
        "grid.fit(X_train, y_train)"
      ]
    },
    {
      "cell_type": "code",
      "execution_count": null,
      "id": "9eff8cf8",
      "metadata": {
        "colab": {
          "base_uri": "https://localhost:8080/"
        },
        "id": "9eff8cf8",
        "outputId": "a9fd81bd-d60e-4445-c7e5-e2bdf80a5237"
      },
      "outputs": [],
      "source": [
        "grid.best_estimator_"
      ]
    },
    {
      "cell_type": "code",
      "execution_count": null,
      "id": "0d9527df",
      "metadata": {
        "colab": {
          "base_uri": "https://localhost:8080/"
        },
        "id": "0d9527df",
        "outputId": "6f018086-a4c4-4ec3-bfd5-3e8f41b010f8"
      },
      "outputs": [],
      "source": [
        "pd.DataFrame(grid.cv_results_).loc[grid.best_index_, [\"mean_test_score\", \"mean_train_score\"]]"
      ]
    },
    {
      "cell_type": "code",
      "execution_count": null,
      "id": "olive-travel",
      "metadata": {
        "colab": {
          "base_uri": "https://localhost:8080/"
        },
        "id": "olive-travel",
        "outputId": "bb007034-95f5-4065-9a50-af1abca4bc79"
      },
      "outputs": [],
      "source": [
        "y_pred = grid.predict(X_test)\n",
        "y_pred_proba = grid.predict_proba(X_test)\n",
        "\n",
        "gb_f1 = f1_score(y_test, y_pred)\n",
        "gb_recall = recall_score(y_test, y_pred)\n",
        "gb_auc = roc_auc_score(y_test, y_pred_proba[:,1])\n",
        "\n",
        "eval_metric(grid, X_train, y_train, X_test, y_test)"
      ]
    },
    {
      "cell_type": "markdown",
      "id": "ebab4b36",
      "metadata": {
        "id": "ebab4b36"
      },
      "source": [
        "## Feature importances"
      ]
    },
    {
      "cell_type": "code",
      "execution_count": null,
      "id": "9a364619",
      "metadata": {
        "colab": {
          "base_uri": "https://localhost:8080/"
        },
        "id": "9a364619",
        "outputId": "12ae2961-67f6-40ed-a728-f88b435fea9d"
      },
      "outputs": [],
      "source": [
        "model = GradientBoostingClassifier(max_features= 3,\n",
        "                                   n_estimators = 100,\n",
        "                                   subsample = 0.5,\n",
        "                                   random_state=42)\n",
        "model.fit(X_train, y_train)\n",
        "\n",
        "model.feature_importances_\n",
        "\n",
        "feats = pd.DataFrame(index=X.columns,\n",
        "                     data=model.feature_importances_,\n",
        "                     columns=['grad_importance'])\n",
        "grad_imp_feats = feats.sort_values(\"grad_importance\", ascending=False)\n",
        "grad_imp_feats"
      ]
    },
    {
      "cell_type": "code",
      "execution_count": null,
      "id": "dcc94c12",
      "metadata": {
        "colab": {
          "base_uri": "https://localhost:8080/",
          "height": 474
        },
        "id": "dcc94c12",
        "outputId": "6e6da374-dcf9-40d8-f4b1-ee824843a70c"
      },
      "outputs": [],
      "source": [
        "#plt.figure(figsize=(12,6))\n",
        "ax = sns.barplot(data=grad_imp_feats,\n",
        "                 x=grad_imp_feats.index,\n",
        "                 y='grad_importance')\n",
        "ax.bar_label(ax.containers[0],fmt=\"%.3f\")\n",
        "plt.xticks(rotation=90);"
      ]
    },
    {
      "cell_type": "markdown",
      "id": "indie-tunnel",
      "metadata": {
        "id": "indie-tunnel"
      },
      "source": [
        "## Evaluating ROC Curves and AUC"
      ]
    },
    {
      "cell_type": "code",
      "execution_count": null,
      "id": "apart-logging",
      "metadata": {
        "id": "apart-logging",
        "outputId": "d1a061e6-cddd-4376-ab99-17b012613b7f"
      },
      "outputs": [],
      "source": [
        "RocCurveDisplay.from_estimator(grid, X_test, y_test);"
      ]
    },
    {
      "cell_type": "markdown",
      "id": "returning-chassis",
      "metadata": {
        "id": "returning-chassis"
      },
      "source": [
        "## XG Boosting Modelling and Model Performance"
      ]
    },
    {
      "cell_type": "raw",
      "id": "6d909034",
      "metadata": {
        "id": "6d909034",
        "lang": "en"
      },
      "source": [
        "https://www.avato-consulting.com/?p=28903&lang=en\n",
        "\n",
        "Those who want more detailed information about objective and booster hyperparameters can read it."
      ]
    },
    {
      "cell_type": "code",
      "execution_count": null,
      "id": "round-quarterly",
      "metadata": {
        "id": "round-quarterly"
      },
      "outputs": [],
      "source": [
        "from xgboost import XGBClassifier"
      ]
    },
    {
      "cell_type": "code",
      "execution_count": null,
      "id": "3b043c71",
      "metadata": {
        "id": "3b043c71",
        "lang": "en",
        "outputId": "e911b362-61a4-4ac6-a50d-aa49e287afd9"
      },
      "outputs": [],
      "source": [
        "xgb = XGBClassifier(random_state=42, use_label_encoder=False)\n",
        "# use_label_encoder=False for compatibility with sklearn, otherwise you may get a warning\n",
        "xgb.fit(X_train, y_train)\n",
        "\n",
        "# Hyper_parameters:\n",
        "# base_score=0.5 The model starts all observations from the default 0.5 probability value and\n",
        "# tries to pull this value to 1.0 probability for 1 classes and 0.0 for 0 classes.\n",
        "\n",
        "# max_depth=6 is the default value of learning_rate=0.300000012. These are some of the parameters\n",
        "# that have the most impact on overfiting.\n",
        "\n",
        "# subsample=1 by default uses all observations in all trees. Values around 0.8 should be tried to prevent overifting.\n",
        "# subsumple=0.8 means randomly pick 80% of observations from train set on all trees and use them on trees.\n",
        "# Random selection is made again for each tree. This process increases randomness.\n",
        "\n",
        "# colsample_bytree=1 defaults to 1. It determines the number of features that should be used for each tree.\n",
        "# If our data consists of 20 features and colsample_bytree=0.5, it will only use 10 randomly selected features\n",
        "# from 20 featuras for each tree. used to increase randomness.\n",
        "\n",
        "# colsample_bylevel=1 defaults to 1. If colsample_bylevel=0.5, 5 features randomly selected from among the features\n",
        "# (10 features) to be used for each tree are used for each leaf division. This process is repeated for each leaf division. used to increase randomness.\n",
        "\n",
        "# gamma=0 default is 0. Used to prevent overfitting. It can take values between 0 and + infinity.\n",
        "# Let's interpret it for gamma = 0. If the reduction in loss function is greater than 0 as a result of branching a root,\n",
        "# continue branching. As soon as it sees that there is no decrease in the loss_funtion in the train data,\n",
        "# it automatically cuts off the branching. So we can say that it sees an early_stop for branching.\n",
        "# Overfiting can be eliminated by making minor changes in the gamma value.\n",
        "\n",
        "# min_child_weight=1 default is 1. Used to prevent overfitting. It takes a value between 0 and + infinity.\n",
        "# Let's interpret for min_child_weight=1. If the total weight of the observations falling on a new leaf formed\n",
        "# as a result of the branching of a root (if the sample weights are not done, all the observations are weighted)\n",
        "# is greater than 1, the branches continue. In other words, while the weight of all observations is 1,\n",
        "# the branches continue until 1 observation falls on each leaf.\n",
        "\n",
        "# scale_pos_weight=1 is the weighting parameter. However, it is only used for binary data.\n",
        "# If the ratio of classes is 1/10, this parameter should be set to 10 to weight the minority class.\n",
        "\n",
        "# means reg_alpha = lasso, reg_lambda = ridge. ridge is used by default.\n",
        "\n",
        "# It does not use metrics such as gini, entrop or mse for the branches in each tree,\n",
        "# instead it uses a parameter called similarity score, in which the regularization parameter is used in the calculation."
      ]
    },
    {
      "cell_type": "code",
      "execution_count": null,
      "id": "e9733820",
      "metadata": {
        "id": "e9733820",
        "outputId": "48f587c1-17a9-40cd-ef2b-94ca7c1707df"
      },
      "outputs": [],
      "source": [
        "eval_metric(xgb, X_train, y_train, X_test, y_test)"
      ]
    },
    {
      "cell_type": "code",
      "execution_count": null,
      "id": "bd43720b",
      "metadata": {
        "id": "bd43720b",
        "outputId": "192644f4-1b13-4780-8066-7aefa569c01b"
      },
      "outputs": [],
      "source": [
        "model = XGBClassifier(random_state=42, use_label_encoder=False)\n",
        "\n",
        "scores = cross_validate(model,\n",
        "                        X_train,\n",
        "                        y_train,\n",
        "                        scoring=['accuracy',\n",
        "                                 'precision',\n",
        "                                 'recall',\n",
        "                                 'f1',\n",
        "                                 'roc_auc'],\n",
        "                        cv = 10,\n",
        "                        return_train_score=True)\n",
        "df_scores = pd.DataFrame(scores, index = range(1, 11))\n",
        "df_scores.mean()[2:]\n",
        "\n",
        "# We need to specify the parameter we defined in the fit function in the fit_params parameter in CV."
      ]
    },
    {
      "cell_type": "markdown",
      "id": "mediterranean-spectrum",
      "metadata": {
        "id": "mediterranean-spectrum"
      },
      "source": [
        "## Gridsearch"
      ]
    },
    {
      "cell_type": "code",
      "execution_count": null,
      "id": "studied-argument",
      "metadata": {
        "id": "studied-argument"
      },
      "outputs": [],
      "source": [
        "param_grid = {\"n_estimators\":[50, 100, 200],\n",
        "              'max_depth':[3,4,5],\n",
        "              \"learning_rate\": [0.1, 0.2],\n",
        "              \"subsample\":[0.5, 0.8, 1],\n",
        "              \"colsample_bytree\":[0.5,0.7, 1]}"
      ]
    },
    {
      "cell_type": "code",
      "execution_count": null,
      "id": "other-mother",
      "metadata": {
        "id": "other-mother"
      },
      "outputs": [],
      "source": [
        "xgb_model = XGBClassifier(random_state=42, use_label_encoder=False)"
      ]
    },
    {
      "cell_type": "code",
      "execution_count": null,
      "id": "equal-settle",
      "metadata": {
        "id": "equal-settle",
        "outputId": "f181adca-0f9d-4639-f261-78046cfc6563"
      },
      "outputs": [],
      "source": [
        "xgb_grid = GridSearchCV(xgb_model,\n",
        "                        param_grid,\n",
        "                        scoring=\"f1\",\n",
        "                        verbose=2,\n",
        "                        n_jobs=-1,\n",
        "                        return_train_score=True)\n",
        "\n",
        "xgb_grid.fit(X_train, y_train)"
      ]
    },
    {
      "cell_type": "code",
      "execution_count": null,
      "id": "conceptual-innocent",
      "metadata": {
        "id": "conceptual-innocent",
        "outputId": "67784819-9c12-4df9-bf9a-c3350144fb52"
      },
      "outputs": [],
      "source": [
        "xgb_grid.best_params_"
      ]
    },
    {
      "cell_type": "code",
      "execution_count": null,
      "id": "67286124",
      "metadata": {
        "id": "67286124",
        "outputId": "2ce71cc0-a37a-4695-cc03-670804c65dba"
      },
      "outputs": [],
      "source": [
        "xgb_grid.best_estimator_"
      ]
    },
    {
      "cell_type": "code",
      "execution_count": null,
      "id": "487cc8ad",
      "metadata": {
        "id": "487cc8ad",
        "outputId": "3617230e-50de-4b5d-db3f-8df23ba0d2b8"
      },
      "outputs": [],
      "source": [
        "pd.DataFrame(xgb_grid.cv_results_).loc[xgb_grid.best_index_, [\"mean_test_score\", \"mean_train_score\"]]"
      ]
    },
    {
      "cell_type": "code",
      "execution_count": null,
      "id": "convertible-sussex",
      "metadata": {
        "id": "convertible-sussex",
        "outputId": "ca2a49d5-c3e1-43ad-f0d9-ba11630e272e"
      },
      "outputs": [],
      "source": [
        "y_pred = xgb_grid.predict(X_test)\n",
        "y_pred_proba = xgb_grid.predict_proba(X_test)\n",
        "\n",
        "xgb_f1 = f1_score(y_test, y_pred)\n",
        "xgb_recall = recall_score(y_test, y_pred)\n",
        "xgb_auc = roc_auc_score(y_test, y_pred_proba[:,1])\n",
        "\n",
        "eval_metric(xgb_grid, X_train, y_train, X_test, y_test)"
      ]
    },
    {
      "cell_type": "markdown",
      "id": "fffdfc4f",
      "metadata": {
        "id": "fffdfc4f"
      },
      "source": [
        "## Feature importances"
      ]
    },
    {
      "cell_type": "code",
      "execution_count": null,
      "id": "8965786b",
      "metadata": {
        "id": "8965786b",
        "outputId": "12dcc87c-542c-4238-e037-f727660daa86"
      },
      "outputs": [],
      "source": [
        "model = XGBClassifier(n_estimators=50,\n",
        "                      colsample_bytree=0.7,\n",
        "                      subsample=0.8,\n",
        "                      learning_rate=0.1,\n",
        "                      max_depth= 3,\n",
        "                      random_state=42,\n",
        "                      use_label_encoder=False)\n",
        "model.fit(X_train, y_train)\n",
        "\n",
        "model.feature_importances_\n",
        "\n",
        "feats = pd.DataFrame(index=X.columns,\n",
        "                     data=model.feature_importances_,\n",
        "                     columns=['xgb_importance'])\n",
        "xgb_imp_feats = feats.sort_values(\"xgb_importance\", ascending=False)\n",
        "xgb_imp_feats"
      ]
    },
    {
      "cell_type": "code",
      "execution_count": null,
      "id": "8339a86c",
      "metadata": {
        "id": "8339a86c",
        "outputId": "e104cdad-1b24-43b8-f1e6-4f7fb3e0b541"
      },
      "outputs": [],
      "source": [
        "ax = sns.barplot(data=xgb_imp_feats,\n",
        "                 x=xgb_imp_feats.index,\n",
        "                 y='xgb_importance')\n",
        "ax.bar_label(ax.containers[0],fmt=\"%.3f\")\n",
        "plt.xticks(rotation=90);"
      ]
    },
    {
      "cell_type": "markdown",
      "id": "a04d84d1",
      "metadata": {
        "id": "a04d84d1"
      },
      "source": [
        "## Feature importance comparison"
      ]
    },
    {
      "cell_type": "code",
      "execution_count": null,
      "id": "80b2f3a1",
      "metadata": {
        "id": "80b2f3a1",
        "outputId": "426a9b6a-6ff3-4e26-daea-f0ecff08ae17"
      },
      "outputs": [],
      "source": [
        "pd.concat([ada_imp_feats, grad_imp_feats, xgb_imp_feats], axis=1)"
      ]
    },
    {
      "cell_type": "markdown",
      "id": "negative-struggle",
      "metadata": {
        "id": "negative-struggle"
      },
      "source": [
        "## Evaluating ROC Curves and AUC"
      ]
    },
    {
      "cell_type": "code",
      "execution_count": null,
      "id": "impressive-bargain",
      "metadata": {
        "id": "impressive-bargain",
        "outputId": "e5362921-4121-4ae3-d17b-4012c3660b9f"
      },
      "outputs": [],
      "source": [
        "RocCurveDisplay.from_estimator(xgb_grid, X_test, y_test);"
      ]
    },
    {
      "cell_type": "markdown",
      "id": "bottom-exclusion",
      "metadata": {
        "id": "bottom-exclusion"
      },
      "source": [
        "## Comparing Models"
      ]
    },
    {
      "cell_type": "code",
      "execution_count": null,
      "id": "developmental-typing",
      "metadata": {
        "id": "developmental-typing",
        "outputId": "f2e97a15-d66d-499d-8799-5bfe155835f9"
      },
      "outputs": [],
      "source": [
        "compare = pd.DataFrame({\"Model\": [\"AdaBoost\",\"GradientBoost\", \"XGBoost\"],\n",
        "                        \"F1\": [ada_f1, gb_f1, xgb_f1],\n",
        "                        \"Recall\": [ada_recall, gb_recall, xgb_recall],\n",
        "                        \"ROC_AUC\": [ada_auc, gb_auc, xgb_auc]})\n",
        "\n",
        "\n",
        "plt.figure(figsize=(14,10))\n",
        "\n",
        "plt.subplot(311)\n",
        "compare = compare.sort_values(by=\"F1\", ascending=False)\n",
        "ax=sns.barplot(x=\"F1\", y=\"Model\", data=compare, palette=\"Blues_d\")\n",
        "ax.bar_label(ax.containers[0],fmt=\"%.3f\")\n",
        "\n",
        "plt.subplot(312)\n",
        "compare = compare.sort_values(by=\"Recall\", ascending=False)\n",
        "ax=sns.barplot(x=\"Recall\", y=\"Model\", data=compare, palette=\"Blues_d\")\n",
        "ax.bar_label(ax.containers[0],fmt=\"%.3f\")\n",
        "\n",
        "plt.subplot(313)\n",
        "compare = compare.sort_values(by=\"ROC_AUC\", ascending=False)\n",
        "ax=sns.barplot(x=\"ROC_AUC\", y=\"Model\", data=compare, palette=\"Blues_d\")\n",
        "ax.bar_label(ax.containers[0],fmt=\"%.3f\")\n",
        "plt.show()"
      ]
    }
  ],
  "metadata": {
    "colab": {
      "provenance": []
    },
    "kernelspec": {
      "display_name": "base",
      "language": "python",
      "name": "python3"
    },
    "language_info": {
      "codemirror_mode": {
        "name": "ipython",
        "version": 3
      },
      "file_extension": ".py",
      "mimetype": "text/x-python",
      "name": "python",
      "nbconvert_exporter": "python",
      "pygments_lexer": "ipython3",
      "version": "3.12.2"
    },
    "nbTranslate": {
      "displayLangs": [
        "en",
        "tr"
      ],
      "hotkey": "alt-t",
      "langInMainMenu": true,
      "sourceLang": "tr",
      "targetLang": "en",
      "useGoogleTranslate": true
    },
    "toc": {
      "base_numbering": 1,
      "nav_menu": {},
      "number_sections": true,
      "sideBar": true,
      "skip_h1_title": false,
      "title_cell": "Table of Contents",
      "title_sidebar": "Contents",
      "toc_cell": false,
      "toc_position": {},
      "toc_section_display": true,
      "toc_window_display": false
    },
    "varInspector": {
      "cols": {
        "lenName": 16,
        "lenType": 16,
        "lenVar": 40
      },
      "kernels_config": {
        "python": {
          "delete_cmd_postfix": "",
          "delete_cmd_prefix": "del ",
          "library": "var_list.py",
          "varRefreshCmd": "print(var_dic_list())"
        },
        "r": {
          "delete_cmd_postfix": ") ",
          "delete_cmd_prefix": "rm(",
          "library": "var_list.r",
          "varRefreshCmd": "cat(var_dic_list()) "
        }
      },
      "types_to_exclude": [
        "module",
        "function",
        "builtin_function_or_method",
        "instance",
        "_Feature"
      ],
      "window_display": false
    }
  },
  "nbformat": 4,
  "nbformat_minor": 5
}
